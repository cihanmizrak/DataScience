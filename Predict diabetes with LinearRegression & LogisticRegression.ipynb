{
 "cells": [
  {
   "cell_type": "code",
   "execution_count": 253,
   "id": "c2eda928",
   "metadata": {
    "scrolled": true
   },
   "outputs": [
    {
     "data": {
      "text/plain": [
       "(442, 10)"
      ]
     },
     "execution_count": 253,
     "metadata": {},
     "output_type": "execute_result"
    }
   ],
   "source": [
    "import numpy as np \n",
    "import pandas as pd\n",
    "import matplotlib.pyplot as plt\n",
    "import seaborn as sns\n",
    "import scipy.stats as st\n",
    "import warnings\n",
    "from sklearn.preprocessing import MinMaxScaler,StandardScaler\n",
    "from sklearn.datasets import load_diabetes\n",
    "from sklearn.model_selection import train_test_split\n",
    "from sklearn.linear_model import LinearRegression,LogisticRegression\n",
    "from sklearn.metrics import r2_score\n",
    "\n",
    "warnings.filterwarnings(\"ignore\")\n",
    "diabetes = load_diabetes()\n",
    "X,y = diabetes.data,diabetes.target\n",
    "\n",
    "X.shape"
   ]
  },
  {
   "cell_type": "code",
   "execution_count": 254,
   "id": "7693ef4e",
   "metadata": {},
   "outputs": [
    {
     "data": {
      "text/plain": [
       "'.. _diabetes_dataset:\\n\\nDiabetes dataset\\n----------------\\n\\nTen baseline variables, age, sex, body mass index, average blood\\npressure, and six blood serum measurements were obtained for each of n =\\n442 diabetes patients, as well as the response of interest, a\\nquantitative measure of disease progression one year after baseline.\\n\\n**Data Set Characteristics:**\\n\\n  :Number of Instances: 442\\n\\n  :Number of Attributes: First 10 columns are numeric predictive values\\n\\n  :Target: Column 11 is a quantitative measure of disease progression one year after baseline\\n\\n  :Attribute Information:\\n      - age     age in years\\n      - sex\\n      - bmi     body mass index\\n      - bp      average blood pressure\\n      - s1      tc, total serum cholesterol\\n      - s2      ldl, low-density lipoproteins\\n      - s3      hdl, high-density lipoproteins\\n      - s4      tch, total cholesterol / HDL\\n      - s5      ltg, possibly log of serum triglycerides level\\n      - s6      glu, blood sugar level\\n\\nNote: Each of these 10 feature variables have been mean centered and scaled by the standard deviation times `n_samples` (i.e. the sum of squares of each column totals 1).\\n\\nSource URL:\\nhttps://www4.stat.ncsu.edu/~boos/var.select/diabetes.html\\n\\nFor more information see:\\nBradley Efron, Trevor Hastie, Iain Johnstone and Robert Tibshirani (2004) \"Least Angle Regression,\" Annals of Statistics (with discussion), 407-499.\\n(https://web.stanford.edu/~hastie/Papers/LARS/LeastAngle_2002.pdf)'"
      ]
     },
     "execution_count": 254,
     "metadata": {},
     "output_type": "execute_result"
    }
   ],
   "source": [
    "diabetes.DESCR"
   ]
  },
  {
   "cell_type": "code",
   "execution_count": 255,
   "id": "5005e3d3",
   "metadata": {},
   "outputs": [
    {
     "data": {
      "text/plain": [
       "array([151.,  75., 141., 206., 135.,  97., 138.,  63., 110., 310.])"
      ]
     },
     "execution_count": 255,
     "metadata": {},
     "output_type": "execute_result"
    }
   ],
   "source": [
    "diabetes.target[:10]"
   ]
  },
  {
   "cell_type": "markdown",
   "id": "78fce9b4",
   "metadata": {},
   "source": [
    "## Linear Regression"
   ]
  },
  {
   "cell_type": "code",
   "execution_count": 256,
   "id": "634e3fe5",
   "metadata": {
    "scrolled": true
   },
   "outputs": [
    {
     "data": {
      "text/html": [
       "<div>\n",
       "<style scoped>\n",
       "    .dataframe tbody tr th:only-of-type {\n",
       "        vertical-align: middle;\n",
       "    }\n",
       "\n",
       "    .dataframe tbody tr th {\n",
       "        vertical-align: top;\n",
       "    }\n",
       "\n",
       "    .dataframe thead th {\n",
       "        text-align: right;\n",
       "    }\n",
       "</style>\n",
       "<table border=\"1\" class=\"dataframe\">\n",
       "  <thead>\n",
       "    <tr style=\"text-align: right;\">\n",
       "      <th></th>\n",
       "      <th>age</th>\n",
       "      <th>sex</th>\n",
       "      <th>bmi</th>\n",
       "      <th>bp</th>\n",
       "      <th>tc</th>\n",
       "      <th>ldl</th>\n",
       "      <th>hdl</th>\n",
       "      <th>tch</th>\n",
       "      <th>ltg</th>\n",
       "      <th>glu</th>\n",
       "      <th>diabetes</th>\n",
       "    </tr>\n",
       "  </thead>\n",
       "  <tbody>\n",
       "    <tr>\n",
       "      <th>0</th>\n",
       "      <td>0.038076</td>\n",
       "      <td>0.050680</td>\n",
       "      <td>0.061696</td>\n",
       "      <td>0.021872</td>\n",
       "      <td>-0.044223</td>\n",
       "      <td>-0.034821</td>\n",
       "      <td>-0.043401</td>\n",
       "      <td>-0.002592</td>\n",
       "      <td>0.019908</td>\n",
       "      <td>-0.017646</td>\n",
       "      <td>151.0</td>\n",
       "    </tr>\n",
       "    <tr>\n",
       "      <th>1</th>\n",
       "      <td>-0.001882</td>\n",
       "      <td>-0.044642</td>\n",
       "      <td>-0.051474</td>\n",
       "      <td>-0.026328</td>\n",
       "      <td>-0.008449</td>\n",
       "      <td>-0.019163</td>\n",
       "      <td>0.074412</td>\n",
       "      <td>-0.039493</td>\n",
       "      <td>-0.068330</td>\n",
       "      <td>-0.092204</td>\n",
       "      <td>75.0</td>\n",
       "    </tr>\n",
       "    <tr>\n",
       "      <th>2</th>\n",
       "      <td>0.085299</td>\n",
       "      <td>0.050680</td>\n",
       "      <td>0.044451</td>\n",
       "      <td>-0.005671</td>\n",
       "      <td>-0.045599</td>\n",
       "      <td>-0.034194</td>\n",
       "      <td>-0.032356</td>\n",
       "      <td>-0.002592</td>\n",
       "      <td>0.002864</td>\n",
       "      <td>-0.025930</td>\n",
       "      <td>141.0</td>\n",
       "    </tr>\n",
       "    <tr>\n",
       "      <th>3</th>\n",
       "      <td>-0.089063</td>\n",
       "      <td>-0.044642</td>\n",
       "      <td>-0.011595</td>\n",
       "      <td>-0.036656</td>\n",
       "      <td>0.012191</td>\n",
       "      <td>0.024991</td>\n",
       "      <td>-0.036038</td>\n",
       "      <td>0.034309</td>\n",
       "      <td>0.022692</td>\n",
       "      <td>-0.009362</td>\n",
       "      <td>206.0</td>\n",
       "    </tr>\n",
       "    <tr>\n",
       "      <th>4</th>\n",
       "      <td>0.005383</td>\n",
       "      <td>-0.044642</td>\n",
       "      <td>-0.036385</td>\n",
       "      <td>0.021872</td>\n",
       "      <td>0.003935</td>\n",
       "      <td>0.015596</td>\n",
       "      <td>0.008142</td>\n",
       "      <td>-0.002592</td>\n",
       "      <td>-0.031991</td>\n",
       "      <td>-0.046641</td>\n",
       "      <td>135.0</td>\n",
       "    </tr>\n",
       "  </tbody>\n",
       "</table>\n",
       "</div>"
      ],
      "text/plain": [
       "        age       sex       bmi        bp        tc       ldl       hdl  \\\n",
       "0  0.038076  0.050680  0.061696  0.021872 -0.044223 -0.034821 -0.043401   \n",
       "1 -0.001882 -0.044642 -0.051474 -0.026328 -0.008449 -0.019163  0.074412   \n",
       "2  0.085299  0.050680  0.044451 -0.005671 -0.045599 -0.034194 -0.032356   \n",
       "3 -0.089063 -0.044642 -0.011595 -0.036656  0.012191  0.024991 -0.036038   \n",
       "4  0.005383 -0.044642 -0.036385  0.021872  0.003935  0.015596  0.008142   \n",
       "\n",
       "        tch       ltg       glu  diabetes  \n",
       "0 -0.002592  0.019908 -0.017646     151.0  \n",
       "1 -0.039493 -0.068330 -0.092204      75.0  \n",
       "2 -0.002592  0.002864 -0.025930     141.0  \n",
       "3  0.034309  0.022692 -0.009362     206.0  \n",
       "4 -0.002592 -0.031991 -0.046641     135.0  "
      ]
     },
     "execution_count": 256,
     "metadata": {},
     "output_type": "execute_result"
    }
   ],
   "source": [
    "df = pd.DataFrame(X,columns=[\"age\",\"sex\",\"bmi\",\"bp\", \"tc\", \"ldl\", \"hdl\",\"tch\", \"ltg\", \"glu\"])\n",
    "df[\"diabetes\"] = y\n",
    "df.head()"
   ]
  },
  {
   "cell_type": "markdown",
   "id": "086ba631",
   "metadata": {},
   "source": [
    "### Scaler"
   ]
  },
  {
   "cell_type": "code",
   "execution_count": 257,
   "id": "a1515514",
   "metadata": {},
   "outputs": [],
   "source": [
    "X = df.drop(\"diabetes\",axis=1)\n",
    "cols = X.columns\n",
    "scaler = StandardScaler()\n",
    "for col in cols:\n",
    "    df[col] = pd.DataFrame(scaler.fit_transform(pd.DataFrame(df[col])),columns=[col])"
   ]
  },
  {
   "cell_type": "code",
   "execution_count": 258,
   "id": "5f073491",
   "metadata": {},
   "outputs": [
    {
     "data": {
      "text/html": [
       "<div>\n",
       "<style scoped>\n",
       "    .dataframe tbody tr th:only-of-type {\n",
       "        vertical-align: middle;\n",
       "    }\n",
       "\n",
       "    .dataframe tbody tr th {\n",
       "        vertical-align: top;\n",
       "    }\n",
       "\n",
       "    .dataframe thead th {\n",
       "        text-align: right;\n",
       "    }\n",
       "</style>\n",
       "<table border=\"1\" class=\"dataframe\">\n",
       "  <thead>\n",
       "    <tr style=\"text-align: right;\">\n",
       "      <th></th>\n",
       "      <th>age</th>\n",
       "      <th>sex</th>\n",
       "      <th>bmi</th>\n",
       "      <th>bp</th>\n",
       "      <th>tc</th>\n",
       "      <th>ldl</th>\n",
       "      <th>hdl</th>\n",
       "      <th>tch</th>\n",
       "      <th>ltg</th>\n",
       "      <th>glu</th>\n",
       "      <th>diabetes</th>\n",
       "    </tr>\n",
       "  </thead>\n",
       "  <tbody>\n",
       "    <tr>\n",
       "      <th>0</th>\n",
       "      <td>0.800500</td>\n",
       "      <td>1.065488</td>\n",
       "      <td>1.297088</td>\n",
       "      <td>0.459840</td>\n",
       "      <td>-0.929746</td>\n",
       "      <td>-0.732065</td>\n",
       "      <td>-0.912451</td>\n",
       "      <td>-0.054499</td>\n",
       "      <td>0.418551</td>\n",
       "      <td>-0.370989</td>\n",
       "      <td>151.0</td>\n",
       "    </tr>\n",
       "    <tr>\n",
       "      <th>1</th>\n",
       "      <td>-0.039567</td>\n",
       "      <td>-0.938537</td>\n",
       "      <td>-1.082180</td>\n",
       "      <td>-0.553511</td>\n",
       "      <td>-0.177624</td>\n",
       "      <td>-0.402886</td>\n",
       "      <td>1.564414</td>\n",
       "      <td>-0.830301</td>\n",
       "      <td>-1.436551</td>\n",
       "      <td>-1.938479</td>\n",
       "      <td>75.0</td>\n",
       "    </tr>\n",
       "    <tr>\n",
       "      <th>2</th>\n",
       "      <td>1.793307</td>\n",
       "      <td>1.065488</td>\n",
       "      <td>0.934533</td>\n",
       "      <td>-0.119218</td>\n",
       "      <td>-0.958674</td>\n",
       "      <td>-0.718897</td>\n",
       "      <td>-0.680245</td>\n",
       "      <td>-0.054499</td>\n",
       "      <td>0.060207</td>\n",
       "      <td>-0.545154</td>\n",
       "      <td>141.0</td>\n",
       "    </tr>\n",
       "    <tr>\n",
       "      <th>3</th>\n",
       "      <td>-1.872441</td>\n",
       "      <td>-0.938537</td>\n",
       "      <td>-0.243771</td>\n",
       "      <td>-0.770658</td>\n",
       "      <td>0.256292</td>\n",
       "      <td>0.525397</td>\n",
       "      <td>-0.757647</td>\n",
       "      <td>0.721302</td>\n",
       "      <td>0.477072</td>\n",
       "      <td>-0.196823</td>\n",
       "      <td>206.0</td>\n",
       "    </tr>\n",
       "    <tr>\n",
       "      <th>4</th>\n",
       "      <td>0.113172</td>\n",
       "      <td>-0.938537</td>\n",
       "      <td>-0.764944</td>\n",
       "      <td>0.459840</td>\n",
       "      <td>0.082726</td>\n",
       "      <td>0.327890</td>\n",
       "      <td>0.171178</td>\n",
       "      <td>-0.054499</td>\n",
       "      <td>-0.672582</td>\n",
       "      <td>-0.980568</td>\n",
       "      <td>135.0</td>\n",
       "    </tr>\n",
       "  </tbody>\n",
       "</table>\n",
       "</div>"
      ],
      "text/plain": [
       "        age       sex       bmi        bp        tc       ldl       hdl  \\\n",
       "0  0.800500  1.065488  1.297088  0.459840 -0.929746 -0.732065 -0.912451   \n",
       "1 -0.039567 -0.938537 -1.082180 -0.553511 -0.177624 -0.402886  1.564414   \n",
       "2  1.793307  1.065488  0.934533 -0.119218 -0.958674 -0.718897 -0.680245   \n",
       "3 -1.872441 -0.938537 -0.243771 -0.770658  0.256292  0.525397 -0.757647   \n",
       "4  0.113172 -0.938537 -0.764944  0.459840  0.082726  0.327890  0.171178   \n",
       "\n",
       "        tch       ltg       glu  diabetes  \n",
       "0 -0.054499  0.418551 -0.370989     151.0  \n",
       "1 -0.830301 -1.436551 -1.938479      75.0  \n",
       "2 -0.054499  0.060207 -0.545154     141.0  \n",
       "3  0.721302  0.477072 -0.196823     206.0  \n",
       "4 -0.054499 -0.672582 -0.980568     135.0  "
      ]
     },
     "execution_count": 258,
     "metadata": {},
     "output_type": "execute_result"
    }
   ],
   "source": [
    "df.head()"
   ]
  },
  {
   "cell_type": "markdown",
   "id": "799edc7a",
   "metadata": {},
   "source": [
    "### Model, Predict & Score"
   ]
  },
  {
   "cell_type": "code",
   "execution_count": 268,
   "id": "bb07b07f",
   "metadata": {},
   "outputs": [
    {
     "name": "stdout",
     "output_type": "stream",
     "text": [
      "the intercept is:0.49988314836051484\n",
      "the slope is:[-0.09684532 -1.94123533  2.45105266  1.62103432 -3.19094707  2.42461893\n",
      " -1.21149489 -0.20698768  3.93210709  0.0734237 ]\n"
     ]
    },
    {
     "data": {
      "text/plain": [
       "0.3484647857075056"
      ]
     },
     "execution_count": 268,
     "metadata": {},
     "output_type": "execute_result"
    }
   ],
   "source": [
    "X_train,X_test,y_train,y_test = train_test_split(X,y,random_state = 1, test_size=0.2)\n",
    "linear_model = LinearRegression().fit(X_train,y_train)\n",
    "\n",
    "y_pred_linear =  linearmodel.predict(X_test)\n",
    "\n",
    "print(f'the intercept is:{linear_model.intercept_}')\n",
    "print(f'the slope is:{linear_model.coef_}')\n",
    "\n",
    "r2_score(y_test,y_pred_linear) "
   ]
  },
  {
   "cell_type": "code",
   "execution_count": 269,
   "id": "5a208d8b",
   "metadata": {},
   "outputs": [
    {
     "data": {
      "image/png": "[encoded data removed]",
      "text/plain": [
       "<Figure size 720x576 with 1 Axes>"
      ]
     },
     "metadata": {
      "needs_background": "light"
     },
     "output_type": "display_data"
    }
   ],
   "source": [
    "plt.figure(figsize = (10,8))\n",
    "\n",
    "ax = sns.kdeplot(y_test, color = \"r\", label = \"Actual Value\")\n",
    "sns.kdeplot(y_pred_linear, color = \"b\", label = \"Predicted Values\",\n",
    "           ax = ax)\n",
    "\n",
    "plt.title('Actual vs Precited values')\n",
    "\n",
    "plt.legend()\n",
    "\n",
    "plt.show()"
   ]
  },
  {
   "cell_type": "markdown",
   "id": "85f0e86b",
   "metadata": {},
   "source": [
    "## LogisticRegression\n",
    "A blood sugar level less than 140 mg/dL (7.8 mmol/L) is normal."
   ]
  },
  {
   "cell_type": "code",
   "execution_count": 260,
   "id": "5a80c5da",
   "metadata": {},
   "outputs": [
    {
     "data": {
      "text/html": [
       "<div>\n",
       "<style scoped>\n",
       "    .dataframe tbody tr th:only-of-type {\n",
       "        vertical-align: middle;\n",
       "    }\n",
       "\n",
       "    .dataframe tbody tr th {\n",
       "        vertical-align: top;\n",
       "    }\n",
       "\n",
       "    .dataframe thead th {\n",
       "        text-align: right;\n",
       "    }\n",
       "</style>\n",
       "<table border=\"1\" class=\"dataframe\">\n",
       "  <thead>\n",
       "    <tr style=\"text-align: right;\">\n",
       "      <th></th>\n",
       "      <th>age</th>\n",
       "      <th>sex</th>\n",
       "      <th>bmi</th>\n",
       "      <th>bp</th>\n",
       "      <th>tc</th>\n",
       "      <th>ldl</th>\n",
       "      <th>hdl</th>\n",
       "      <th>tch</th>\n",
       "      <th>ltg</th>\n",
       "      <th>glu</th>\n",
       "      <th>diabetes</th>\n",
       "    </tr>\n",
       "  </thead>\n",
       "  <tbody>\n",
       "    <tr>\n",
       "      <th>0</th>\n",
       "      <td>0.800500</td>\n",
       "      <td>1.065488</td>\n",
       "      <td>1.297088</td>\n",
       "      <td>0.459840</td>\n",
       "      <td>-0.929746</td>\n",
       "      <td>-0.732065</td>\n",
       "      <td>-0.912451</td>\n",
       "      <td>-0.054499</td>\n",
       "      <td>0.418551</td>\n",
       "      <td>-0.370989</td>\n",
       "      <td>1</td>\n",
       "    </tr>\n",
       "    <tr>\n",
       "      <th>1</th>\n",
       "      <td>-0.039567</td>\n",
       "      <td>-0.938537</td>\n",
       "      <td>-1.082180</td>\n",
       "      <td>-0.553511</td>\n",
       "      <td>-0.177624</td>\n",
       "      <td>-0.402886</td>\n",
       "      <td>1.564414</td>\n",
       "      <td>-0.830301</td>\n",
       "      <td>-1.436551</td>\n",
       "      <td>-1.938479</td>\n",
       "      <td>0</td>\n",
       "    </tr>\n",
       "    <tr>\n",
       "      <th>2</th>\n",
       "      <td>1.793307</td>\n",
       "      <td>1.065488</td>\n",
       "      <td>0.934533</td>\n",
       "      <td>-0.119218</td>\n",
       "      <td>-0.958674</td>\n",
       "      <td>-0.718897</td>\n",
       "      <td>-0.680245</td>\n",
       "      <td>-0.054499</td>\n",
       "      <td>0.060207</td>\n",
       "      <td>-0.545154</td>\n",
       "      <td>1</td>\n",
       "    </tr>\n",
       "    <tr>\n",
       "      <th>3</th>\n",
       "      <td>-1.872441</td>\n",
       "      <td>-0.938537</td>\n",
       "      <td>-0.243771</td>\n",
       "      <td>-0.770658</td>\n",
       "      <td>0.256292</td>\n",
       "      <td>0.525397</td>\n",
       "      <td>-0.757647</td>\n",
       "      <td>0.721302</td>\n",
       "      <td>0.477072</td>\n",
       "      <td>-0.196823</td>\n",
       "      <td>1</td>\n",
       "    </tr>\n",
       "    <tr>\n",
       "      <th>4</th>\n",
       "      <td>0.113172</td>\n",
       "      <td>-0.938537</td>\n",
       "      <td>-0.764944</td>\n",
       "      <td>0.459840</td>\n",
       "      <td>0.082726</td>\n",
       "      <td>0.327890</td>\n",
       "      <td>0.171178</td>\n",
       "      <td>-0.054499</td>\n",
       "      <td>-0.672582</td>\n",
       "      <td>-0.980568</td>\n",
       "      <td>0</td>\n",
       "    </tr>\n",
       "  </tbody>\n",
       "</table>\n",
       "</div>"
      ],
      "text/plain": [
       "        age       sex       bmi        bp        tc       ldl       hdl  \\\n",
       "0  0.800500  1.065488  1.297088  0.459840 -0.929746 -0.732065 -0.912451   \n",
       "1 -0.039567 -0.938537 -1.082180 -0.553511 -0.177624 -0.402886  1.564414   \n",
       "2  1.793307  1.065488  0.934533 -0.119218 -0.958674 -0.718897 -0.680245   \n",
       "3 -1.872441 -0.938537 -0.243771 -0.770658  0.256292  0.525397 -0.757647   \n",
       "4  0.113172 -0.938537 -0.764944  0.459840  0.082726  0.327890  0.171178   \n",
       "\n",
       "        tch       ltg       glu  diabetes  \n",
       "0 -0.054499  0.418551 -0.370989         1  \n",
       "1 -0.830301 -1.436551 -1.938479         0  \n",
       "2 -0.054499  0.060207 -0.545154         1  \n",
       "3  0.721302  0.477072 -0.196823         1  \n",
       "4 -0.054499 -0.672582 -0.980568         0  "
      ]
     },
     "execution_count": 260,
     "metadata": {},
     "output_type": "execute_result"
    }
   ],
   "source": [
    "df[\"diabetes\"] = df[\"diabetes\"].apply(lambda x : 1 if x>=140 else 0 )\n",
    "y = df[\"diabetes\"]\n",
    "df.head()"
   ]
  },
  {
   "cell_type": "markdown",
   "id": "d064fcc5",
   "metadata": {},
   "source": [
    "### Model, Predict & Score"
   ]
  },
  {
   "cell_type": "code",
   "execution_count": 270,
   "id": "1a8a54de",
   "metadata": {
    "scrolled": true
   },
   "outputs": [
    {
     "name": "stdout",
     "output_type": "stream",
     "text": [
      "the intercept is:[0 1]\n",
      "the slope is:[[ 0.60880323 -0.53177235  2.71014326  1.8246915   0.4867677   0.28259547\n",
      "  -1.88238845  1.63516316  2.57787728  1.35036424]]\n"
     ]
    },
    {
     "data": {
      "text/plain": [
       "0.7528089887640449"
      ]
     },
     "execution_count": 270,
     "metadata": {},
     "output_type": "execute_result"
    }
   ],
   "source": [
    "X_train,X_test,y_train,y_test = train_test_split(X,df[\"diabetes\"], random_state = 1,test_size=0.2)\n",
    "LogisticModel = LogisticRegression().fit(X_train,y_train)\n",
    "y_pred_logistic = LogisticModel.predict(X_test)\n",
    "\n",
    "print(f'the intercept is:{LogisticModel.classes_}')\n",
    "print(f'the slope is:{LogisticModel.coef_}')\n",
    "\n",
    "LogisticModel.score(X_test, y_test) #test set\n"
   ]
  },
  {
   "cell_type": "code",
   "execution_count": 271,
   "id": "f79d32b1",
   "metadata": {},
   "outputs": [
    {
     "data": {
      "image/png": "[encoded data removed]",
      "text/plain": [
       "<Figure size 720x576 with 1 Axes>"
      ]
     },
     "metadata": {
      "needs_background": "light"
     },
     "output_type": "display_data"
    }
   ],
   "source": [
    "plt.figure(figsize = (10,8))\n",
    "\n",
    "ax = sns.kdeplot(y_test, color = \"r\", label = \"Actual Value\")\n",
    "sns.kdeplot(y_pred_logistic, color = \"b\", label = \"Predicted Values\",\n",
    "           ax = ax)\n",
    "\n",
    "plt.title('Actual vs Precited values')\n",
    "\n",
    "plt.legend()\n",
    "\n",
    "plt.show()"
   ]
  }
 ],
 "metadata": {
  "kernelspec": {
   "display_name": "Python 3 (ipykernel)",
   "language": "python",
   "name": "python3"
  },
  "language_info": {
   "codemirror_mode": {
    "name": "ipython",
    "version": 3
   },
   "file_extension": ".py",
   "mimetype": "text/x-python",
   "name": "python",
   "nbconvert_exporter": "python",
   "pygments_lexer": "ipython3",
   "version": "3.9.12"
  }
 },
 "nbformat": 4,
 "nbformat_minor": 5
}
